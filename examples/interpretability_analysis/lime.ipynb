{
 "cells": [
  {
   "cell_type": "markdown",
   "id": "9a24a4ca",
   "metadata": {},
   "source": [
    "# Lime analysis"
   ]
  },
  {
   "cell_type": "code",
   "execution_count": null,
   "id": "65ca8080",
   "metadata": {
    "vscode": {
     "languageId": "plaintext"
    }
   },
   "outputs": [],
   "source": []
  }
 ],
 "metadata": {
  "language_info": {
   "name": "python"
  }
 },
 "nbformat": 4,
 "nbformat_minor": 5
}
